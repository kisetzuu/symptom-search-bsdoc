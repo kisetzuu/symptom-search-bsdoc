{
 "cells": [
  {
   "cell_type": "code",
   "execution_count": 1,
   "metadata": {},
   "outputs": [
    {
     "name": "stdout",
     "output_type": "stream",
     "text": [
      "\n",
      "Columns in dataset.csv:\n",
      "['Disease', 'Symptom_1', 'Symptom_2', 'Symptom_3', 'Symptom_4', 'Symptom_5', 'Symptom_6', 'Symptom_7', 'Symptom_8', 'Symptom_9', 'Symptom_10', 'Symptom_11', 'Symptom_12', 'Symptom_13', 'Symptom_14', 'Symptom_15', 'Symptom_16', 'Symptom_17']\n",
      "\n",
      "Columns in symptom_Description.csv (disease descriptions):\n",
      "['Disease', 'Description']\n",
      "\n",
      "Columns in symptom_precaution.csv:\n",
      "['Disease', 'Precaution_1', 'Precaution_2', 'Precaution_3', 'Precaution_4']\n",
      "\n",
      "Columns in Symptom-severity.csv:\n",
      "['Symptom', 'weight']\n"
     ]
    }
   ],
   "source": [
    "import pandas as pd\n",
    "\n",
    "# File paths\n",
    "dataset_path = r\"C:\\Users\\kulai\\OneDrive\\Desktop\\BSDoc\\tf-idf\\dataset.csv\"\n",
    "disease_description_path = r\"C:\\Users\\kulai\\OneDrive\\Desktop\\BSDoc\\tf-idf\\symptom_Description.csv\"\n",
    "precaution_path = r\"C:\\Users\\kulai\\OneDrive\\Desktop\\BSDoc\\tf-idf\\symptom_precaution.csv\"\n",
    "severity_path = r\"C:\\Users\\kulai\\OneDrive\\Desktop\\BSDoc\\tf-idf\\Symptom-severity.csv\"\n",
    "\n",
    "# Load datasets\n",
    "dataset_df = pd.read_csv(dataset_path)\n",
    "desc_df = pd.read_csv(disease_description_path)\n",
    "precaution_df = pd.read_csv(precaution_path)\n",
    "severity_df = pd.read_csv(severity_path)\n",
    "\n",
    "# Print column names\n",
    "print(\"\\nColumns in dataset.csv:\")\n",
    "print(dataset_df.columns.tolist())\n",
    "\n",
    "print(\"\\nColumns in symptom_Description.csv (disease descriptions):\")\n",
    "print(desc_df.columns.tolist())\n",
    "\n",
    "print(\"\\nColumns in symptom_precaution.csv:\")\n",
    "print(precaution_df.columns.tolist())\n",
    "\n",
    "print(\"\\nColumns in Symptom-severity.csv:\")\n",
    "print(severity_df.columns.tolist())\n"
   ]
  },
  {
   "cell_type": "code",
   "execution_count": 1,
   "metadata": {},
   "outputs": [
    {
     "name": "stdout",
     "output_type": "stream",
     "text": [
      "Unique diseases found in dataset:\n",
      "Fungal infection\n",
      "Allergy\n",
      "GERD\n",
      "Chronic cholestasis\n",
      "Drug Reaction\n",
      "Peptic ulcer diseae\n",
      "AIDS\n",
      "Diabetes \n",
      "Gastroenteritis\n",
      "Bronchial Asthma\n",
      "Hypertension \n",
      "Migraine\n",
      "Cervical spondylosis\n",
      "Paralysis (brain hemorrhage)\n",
      "Jaundice\n",
      "Malaria\n",
      "Chicken pox\n",
      "Dengue\n",
      "Typhoid\n",
      "hepatitis A\n",
      "Hepatitis B\n",
      "Hepatitis C\n",
      "Hepatitis D\n",
      "Hepatitis E\n",
      "Alcoholic hepatitis\n",
      "Tuberculosis\n",
      "Common Cold\n",
      "Pneumonia\n",
      "Dimorphic hemmorhoids(piles)\n",
      "Heart attack\n",
      "Varicose veins\n",
      "Hypothyroidism\n",
      "Hyperthyroidism\n",
      "Hypoglycemia\n",
      "Osteoarthristis\n",
      "Arthritis\n",
      "(vertigo) Paroymsal  Positional Vertigo\n",
      "Acne\n",
      "Urinary tract infection\n",
      "Psoriasis\n",
      "Impetigo\n"
     ]
    }
   ],
   "source": [
    "import pandas as pd\n",
    "\n",
    "# Load dataset from your local path\n",
    "dataset_path = r\"C:\\Users\\kulai\\OneDrive\\Desktop\\BSDoc\\sympton_prediction_model-i\\dataset.csv\"\n",
    "df = pd.read_csv(dataset_path)\n",
    "\n",
    "# Extract and display unique diseases\n",
    "unique_diseases = df[\"Disease\"].unique()\n",
    "\n",
    "# Print the unique diseases\n",
    "print(\"Unique diseases found in dataset:\")\n",
    "for disease in unique_diseases:\n",
    "    print(disease)\n"
   ]
  }
 ],
 "metadata": {
  "kernelspec": {
   "display_name": "Python 3",
   "language": "python",
   "name": "python3"
  },
  "language_info": {
   "codemirror_mode": {
    "name": "ipython",
    "version": 3
   },
   "file_extension": ".py",
   "mimetype": "text/x-python",
   "name": "python",
   "nbconvert_exporter": "python",
   "pygments_lexer": "ipython3",
   "version": "3.12.4"
  }
 },
 "nbformat": 4,
 "nbformat_minor": 2
}
